{
 "cells": [
  {
   "cell_type": "code",
   "execution_count": 66,
   "id": "52130300",
   "metadata": {},
   "outputs": [],
   "source": [
    "# Importing Necessary libraries\n",
    "import pandas as pd\n",
    "import numpy as np\n",
    "import matplotlib.pyplot as plt"
   ]
  },
  {
   "cell_type": "code",
   "execution_count": null,
   "id": "066e19ab",
   "metadata": {},
   "outputs": [],
   "source": []
  },
  {
   "cell_type": "code",
   "execution_count": 67,
   "id": "a240f43c",
   "metadata": {},
   "outputs": [
    {
     "data": {
      "text/html": [
       "<div>\n",
       "<style scoped>\n",
       "    .dataframe tbody tr th:only-of-type {\n",
       "        vertical-align: middle;\n",
       "    }\n",
       "\n",
       "    .dataframe tbody tr th {\n",
       "        vertical-align: top;\n",
       "    }\n",
       "\n",
       "    .dataframe thead th {\n",
       "        text-align: right;\n",
       "    }\n",
       "</style>\n",
       "<table border=\"1\" class=\"dataframe\">\n",
       "  <thead>\n",
       "    <tr style=\"text-align: right;\">\n",
       "      <th></th>\n",
       "      <th>Unnamed: 0</th>\n",
       "      <th>Travel_Date</th>\n",
       "      <th>Departure_Airport</th>\n",
       "      <th>Departure_Time</th>\n",
       "      <th>Arrival_Airport</th>\n",
       "      <th>Arrival_Time</th>\n",
       "      <th>Duration</th>\n",
       "      <th>Direct</th>\n",
       "      <th>Transit</th>\n",
       "      <th>Baggage</th>\n",
       "      <th>Airline</th>\n",
       "      <th>Airfare(NZ)</th>\n",
       "      <th>Day</th>\n",
       "      <th>Month</th>\n",
       "      <th>Quarter</th>\n",
       "      <th>Average_Fare</th>\n",
       "    </tr>\n",
       "  </thead>\n",
       "  <tbody>\n",
       "    <tr>\n",
       "      <th>0</th>\n",
       "      <td>0</td>\n",
       "      <td>9/19/19</td>\n",
       "      <td>Auckland</td>\n",
       "      <td>1:35 PM</td>\n",
       "      <td>ChristChurch</td>\n",
       "      <td>3:00 PM</td>\n",
       "      <td>1h 25m</td>\n",
       "      <td>Direct</td>\n",
       "      <td>No Transit</td>\n",
       "      <td>Not Defined</td>\n",
       "      <td>Jetstar</td>\n",
       "      <td>111</td>\n",
       "      <td>Thursday</td>\n",
       "      <td>September</td>\n",
       "      <td>3</td>\n",
       "      <td>1</td>\n",
       "    </tr>\n",
       "    <tr>\n",
       "      <th>1</th>\n",
       "      <td>1</td>\n",
       "      <td>9/19/19</td>\n",
       "      <td>Auckland</td>\n",
       "      <td>3:55 PM</td>\n",
       "      <td>ChristChurch</td>\n",
       "      <td>5:20 PM</td>\n",
       "      <td>1h 25m</td>\n",
       "      <td>Direct</td>\n",
       "      <td>No Transit</td>\n",
       "      <td>Not Defined</td>\n",
       "      <td>Jetstar</td>\n",
       "      <td>111</td>\n",
       "      <td>Thursday</td>\n",
       "      <td>September</td>\n",
       "      <td>3</td>\n",
       "      <td>1</td>\n",
       "    </tr>\n",
       "    <tr>\n",
       "      <th>2</th>\n",
       "      <td>2</td>\n",
       "      <td>9/19/19</td>\n",
       "      <td>Auckland</td>\n",
       "      <td>11:40 AM</td>\n",
       "      <td>ChristChurch</td>\n",
       "      <td>1:05 PM</td>\n",
       "      <td>1h 25m</td>\n",
       "      <td>Direct</td>\n",
       "      <td>No Transit</td>\n",
       "      <td>Not Defined</td>\n",
       "      <td>Jetstar</td>\n",
       "      <td>132</td>\n",
       "      <td>Thursday</td>\n",
       "      <td>September</td>\n",
       "      <td>3</td>\n",
       "      <td>1</td>\n",
       "    </tr>\n",
       "    <tr>\n",
       "      <th>3</th>\n",
       "      <td>3</td>\n",
       "      <td>9/19/19</td>\n",
       "      <td>Auckland</td>\n",
       "      <td>8:00 PM</td>\n",
       "      <td>ChristChurch</td>\n",
       "      <td>9:25 PM</td>\n",
       "      <td>1h 25m</td>\n",
       "      <td>Direct</td>\n",
       "      <td>No Transit</td>\n",
       "      <td>Not Defined</td>\n",
       "      <td>Jetstar</td>\n",
       "      <td>132</td>\n",
       "      <td>Thursday</td>\n",
       "      <td>September</td>\n",
       "      <td>3</td>\n",
       "      <td>1</td>\n",
       "    </tr>\n",
       "    <tr>\n",
       "      <th>4</th>\n",
       "      <td>4</td>\n",
       "      <td>9/19/19</td>\n",
       "      <td>Auckland</td>\n",
       "      <td>9:00 AM</td>\n",
       "      <td>ChristChurch</td>\n",
       "      <td>10:25 AM</td>\n",
       "      <td>1h 25m</td>\n",
       "      <td>Direct</td>\n",
       "      <td>No Transit</td>\n",
       "      <td>Not Defined</td>\n",
       "      <td>Air New Zealand</td>\n",
       "      <td>133</td>\n",
       "      <td>Thursday</td>\n",
       "      <td>September</td>\n",
       "      <td>3</td>\n",
       "      <td>1</td>\n",
       "    </tr>\n",
       "  </tbody>\n",
       "</table>\n",
       "</div>"
      ],
      "text/plain": [
       "   Unnamed: 0 Travel_Date Departure_Airport Departure_Time Arrival_Airport  \\\n",
       "0           0     9/19/19          Auckland        1:35 PM    ChristChurch   \n",
       "1           1     9/19/19          Auckland        3:55 PM    ChristChurch   \n",
       "2           2     9/19/19          Auckland       11:40 AM    ChristChurch   \n",
       "3           3     9/19/19          Auckland        8:00 PM    ChristChurch   \n",
       "4           4     9/19/19          Auckland        9:00 AM    ChristChurch   \n",
       "\n",
       "  Arrival_Time Duration  Direct     Transit      Baggage          Airline  \\\n",
       "0      3:00 PM   1h 25m  Direct  No Transit  Not Defined          Jetstar   \n",
       "1      5:20 PM   1h 25m  Direct  No Transit  Not Defined          Jetstar   \n",
       "2      1:05 PM   1h 25m  Direct  No Transit  Not Defined          Jetstar   \n",
       "3      9:25 PM   1h 25m  Direct  No Transit  Not Defined          Jetstar   \n",
       "4     10:25 AM   1h 25m  Direct  No Transit  Not Defined  Air New Zealand   \n",
       "\n",
       "   Airfare(NZ)       Day      Month  Quarter  Average_Fare  \n",
       "0          111  Thursday  September        3             1  \n",
       "1          111  Thursday  September        3             1  \n",
       "2          132  Thursday  September        3             1  \n",
       "3          132  Thursday  September        3             1  \n",
       "4          133  Thursday  September        3             1  "
      ]
     },
     "execution_count": 67,
     "metadata": {},
     "output_type": "execute_result"
    }
   ],
   "source": [
    "# Reading data\n",
    "data=pd.read_csv('NewZealand_Airfares.csv')\n",
    "data.head()"
   ]
  },
  {
   "cell_type": "code",
   "execution_count": 68,
   "id": "ff22538f",
   "metadata": {},
   "outputs": [],
   "source": [
    "# Dropping 1st column\n",
    "data.drop(['Unnamed: 0'],axis=1,inplace=True)"
   ]
  },
  {
   "cell_type": "code",
   "execution_count": 69,
   "id": "71622bee",
   "metadata": {},
   "outputs": [
    {
     "data": {
      "text/plain": [
       "Travel_Date          0\n",
       "Departure_Airport    0\n",
       "Departure_Time       0\n",
       "Arrival_Airport      0\n",
       "Arrival_Time         0\n",
       "Duration             0\n",
       "Direct               0\n",
       "Transit              0\n",
       "Baggage              0\n",
       "Airline              0\n",
       "Airfare(NZ)          0\n",
       "Day                  0\n",
       "Month                0\n",
       "Quarter              0\n",
       "Average_Fare         0\n",
       "dtype: int64"
      ]
     },
     "execution_count": 69,
     "metadata": {},
     "output_type": "execute_result"
    }
   ],
   "source": [
    "# Null Value check\n",
    "data.isnull().sum()"
   ]
  },
  {
   "cell_type": "code",
   "execution_count": 70,
   "id": "2388d2c7",
   "metadata": {},
   "outputs": [
    {
     "name": "stdout",
     "output_type": "stream",
     "text": [
      "<class 'pandas.core.frame.DataFrame'>\n",
      "RangeIndex: 162804 entries, 0 to 162803\n",
      "Data columns (total 15 columns):\n",
      " #   Column             Non-Null Count   Dtype \n",
      "---  ------             --------------   ----- \n",
      " 0   Travel_Date        162804 non-null  object\n",
      " 1   Departure_Airport  162804 non-null  object\n",
      " 2   Departure_Time     162804 non-null  object\n",
      " 3   Arrival_Airport    162804 non-null  object\n",
      " 4   Arrival_Time       162804 non-null  object\n",
      " 5   Duration           162804 non-null  object\n",
      " 6   Direct             162804 non-null  object\n",
      " 7   Transit            162804 non-null  object\n",
      " 8   Baggage            162804 non-null  object\n",
      " 9   Airline            162804 non-null  object\n",
      " 10  Airfare(NZ)        162804 non-null  int64 \n",
      " 11  Day                162804 non-null  object\n",
      " 12  Month              162804 non-null  object\n",
      " 13  Quarter            162804 non-null  int64 \n",
      " 14  Average_Fare       162804 non-null  int64 \n",
      "dtypes: int64(3), object(12)\n",
      "memory usage: 18.6+ MB\n"
     ]
    }
   ],
   "source": [
    "# Data type\n",
    "data.info()"
   ]
  },
  {
   "cell_type": "code",
   "execution_count": 71,
   "id": "c6eb33d2",
   "metadata": {},
   "outputs": [],
   "source": [
    "# Changing date to date type\n",
    "data['Travel_Date']=pd.to_datetime(data['Travel_Date'])"
   ]
  },
  {
   "cell_type": "code",
   "execution_count": 72,
   "id": "121fa336",
   "metadata": {},
   "outputs": [
    {
     "name": "stdout",
     "output_type": "stream",
     "text": [
      "<class 'pandas.core.frame.DataFrame'>\n",
      "RangeIndex: 162804 entries, 0 to 162803\n",
      "Data columns (total 15 columns):\n",
      " #   Column             Non-Null Count   Dtype         \n",
      "---  ------             --------------   -----         \n",
      " 0   Travel_Date        162804 non-null  datetime64[ns]\n",
      " 1   Departure_Airport  162804 non-null  object        \n",
      " 2   Departure_Time     162804 non-null  object        \n",
      " 3   Arrival_Airport    162804 non-null  object        \n",
      " 4   Arrival_Time       162804 non-null  object        \n",
      " 5   Duration           162804 non-null  object        \n",
      " 6   Direct             162804 non-null  object        \n",
      " 7   Transit            162804 non-null  object        \n",
      " 8   Baggage            162804 non-null  object        \n",
      " 9   Airline            162804 non-null  object        \n",
      " 10  Airfare(NZ)        162804 non-null  int64         \n",
      " 11  Day                162804 non-null  object        \n",
      " 12  Month              162804 non-null  object        \n",
      " 13  Quarter            162804 non-null  int64         \n",
      " 14  Average_Fare       162804 non-null  int64         \n",
      "dtypes: datetime64[ns](1), int64(3), object(11)\n",
      "memory usage: 18.6+ MB\n"
     ]
    }
   ],
   "source": [
    "data.info()"
   ]
  },
  {
   "cell_type": "code",
   "execution_count": 73,
   "id": "7b3ebb27",
   "metadata": {},
   "outputs": [],
   "source": [
    "data['Departure_Time'] = pd.to_datetime(data['Departure_Time']).dt.time\n",
    "data['Arrival_Time'] = pd.to_datetime(data['Arrival_Time']).dt.time"
   ]
  },
  {
   "cell_type": "code",
   "execution_count": 74,
   "id": "adc334eb",
   "metadata": {},
   "outputs": [],
   "source": [
    "data=data.reindex(columns=['Travel_Date','Departure_Airport','Departure_Time','Arrival_Airport','Arrival_Time','Duration','Direct','Transit','Baggage','Airline','Day','Month','Quarter','Average_Fare','Airfare(NZ)'])"
   ]
  },
  {
   "cell_type": "code",
   "execution_count": 75,
   "id": "29a9df3a",
   "metadata": {},
   "outputs": [],
   "source": [
    "data.drop(['Average_Fare'],axis=1,inplace=True)"
   ]
  },
  {
   "cell_type": "code",
   "execution_count": 76,
   "id": "a3550cbe",
   "metadata": {},
   "outputs": [
    {
     "data": {
      "text/html": [
       "<div>\n",
       "<style scoped>\n",
       "    .dataframe tbody tr th:only-of-type {\n",
       "        vertical-align: middle;\n",
       "    }\n",
       "\n",
       "    .dataframe tbody tr th {\n",
       "        vertical-align: top;\n",
       "    }\n",
       "\n",
       "    .dataframe thead th {\n",
       "        text-align: right;\n",
       "    }\n",
       "</style>\n",
       "<table border=\"1\" class=\"dataframe\">\n",
       "  <thead>\n",
       "    <tr style=\"text-align: right;\">\n",
       "      <th></th>\n",
       "      <th>Travel_Date</th>\n",
       "      <th>Departure_Airport</th>\n",
       "      <th>Departure_Time</th>\n",
       "      <th>Arrival_Airport</th>\n",
       "      <th>Arrival_Time</th>\n",
       "      <th>Duration</th>\n",
       "      <th>Direct</th>\n",
       "      <th>Transit</th>\n",
       "      <th>Baggage</th>\n",
       "      <th>Airline</th>\n",
       "      <th>Day</th>\n",
       "      <th>Month</th>\n",
       "      <th>Quarter</th>\n",
       "      <th>Airfare(NZ)</th>\n",
       "    </tr>\n",
       "  </thead>\n",
       "  <tbody>\n",
       "    <tr>\n",
       "      <th>0</th>\n",
       "      <td>2019-09-19</td>\n",
       "      <td>Auckland</td>\n",
       "      <td>13:35:00</td>\n",
       "      <td>ChristChurch</td>\n",
       "      <td>15:00:00</td>\n",
       "      <td>1h 25m</td>\n",
       "      <td>Direct</td>\n",
       "      <td>No Transit</td>\n",
       "      <td>Not Defined</td>\n",
       "      <td>Jetstar</td>\n",
       "      <td>Thursday</td>\n",
       "      <td>September</td>\n",
       "      <td>3</td>\n",
       "      <td>111</td>\n",
       "    </tr>\n",
       "    <tr>\n",
       "      <th>1</th>\n",
       "      <td>2019-09-19</td>\n",
       "      <td>Auckland</td>\n",
       "      <td>15:55:00</td>\n",
       "      <td>ChristChurch</td>\n",
       "      <td>17:20:00</td>\n",
       "      <td>1h 25m</td>\n",
       "      <td>Direct</td>\n",
       "      <td>No Transit</td>\n",
       "      <td>Not Defined</td>\n",
       "      <td>Jetstar</td>\n",
       "      <td>Thursday</td>\n",
       "      <td>September</td>\n",
       "      <td>3</td>\n",
       "      <td>111</td>\n",
       "    </tr>\n",
       "    <tr>\n",
       "      <th>2</th>\n",
       "      <td>2019-09-19</td>\n",
       "      <td>Auckland</td>\n",
       "      <td>11:40:00</td>\n",
       "      <td>ChristChurch</td>\n",
       "      <td>13:05:00</td>\n",
       "      <td>1h 25m</td>\n",
       "      <td>Direct</td>\n",
       "      <td>No Transit</td>\n",
       "      <td>Not Defined</td>\n",
       "      <td>Jetstar</td>\n",
       "      <td>Thursday</td>\n",
       "      <td>September</td>\n",
       "      <td>3</td>\n",
       "      <td>132</td>\n",
       "    </tr>\n",
       "    <tr>\n",
       "      <th>3</th>\n",
       "      <td>2019-09-19</td>\n",
       "      <td>Auckland</td>\n",
       "      <td>20:00:00</td>\n",
       "      <td>ChristChurch</td>\n",
       "      <td>21:25:00</td>\n",
       "      <td>1h 25m</td>\n",
       "      <td>Direct</td>\n",
       "      <td>No Transit</td>\n",
       "      <td>Not Defined</td>\n",
       "      <td>Jetstar</td>\n",
       "      <td>Thursday</td>\n",
       "      <td>September</td>\n",
       "      <td>3</td>\n",
       "      <td>132</td>\n",
       "    </tr>\n",
       "    <tr>\n",
       "      <th>4</th>\n",
       "      <td>2019-09-19</td>\n",
       "      <td>Auckland</td>\n",
       "      <td>09:00:00</td>\n",
       "      <td>ChristChurch</td>\n",
       "      <td>10:25:00</td>\n",
       "      <td>1h 25m</td>\n",
       "      <td>Direct</td>\n",
       "      <td>No Transit</td>\n",
       "      <td>Not Defined</td>\n",
       "      <td>Air New Zealand</td>\n",
       "      <td>Thursday</td>\n",
       "      <td>September</td>\n",
       "      <td>3</td>\n",
       "      <td>133</td>\n",
       "    </tr>\n",
       "  </tbody>\n",
       "</table>\n",
       "</div>"
      ],
      "text/plain": [
       "  Travel_Date Departure_Airport Departure_Time Arrival_Airport Arrival_Time  \\\n",
       "0  2019-09-19          Auckland       13:35:00    ChristChurch     15:00:00   \n",
       "1  2019-09-19          Auckland       15:55:00    ChristChurch     17:20:00   \n",
       "2  2019-09-19          Auckland       11:40:00    ChristChurch     13:05:00   \n",
       "3  2019-09-19          Auckland       20:00:00    ChristChurch     21:25:00   \n",
       "4  2019-09-19          Auckland       09:00:00    ChristChurch     10:25:00   \n",
       "\n",
       "  Duration  Direct     Transit      Baggage          Airline       Day  \\\n",
       "0   1h 25m  Direct  No Transit  Not Defined          Jetstar  Thursday   \n",
       "1   1h 25m  Direct  No Transit  Not Defined          Jetstar  Thursday   \n",
       "2   1h 25m  Direct  No Transit  Not Defined          Jetstar  Thursday   \n",
       "3   1h 25m  Direct  No Transit  Not Defined          Jetstar  Thursday   \n",
       "4   1h 25m  Direct  No Transit  Not Defined  Air New Zealand  Thursday   \n",
       "\n",
       "       Month  Quarter  Airfare(NZ)  \n",
       "0  September        3          111  \n",
       "1  September        3          111  \n",
       "2  September        3          132  \n",
       "3  September        3          132  \n",
       "4  September        3          133  "
      ]
     },
     "execution_count": 76,
     "metadata": {},
     "output_type": "execute_result"
    }
   ],
   "source": [
    "data.head()"
   ]
  },
  {
   "cell_type": "code",
   "execution_count": 77,
   "id": "bf096a34",
   "metadata": {},
   "outputs": [
    {
     "data": {
      "text/plain": [
       "1 stop     123060\n",
       "2 stops     20029\n",
       "Direct      19705\n",
       "3 stops        10\n",
       "Name: Direct, dtype: int64"
      ]
     },
     "execution_count": 77,
     "metadata": {},
     "output_type": "execute_result"
    }
   ],
   "source": [
    "# Direct\n",
    "data['Direct'].value_counts()"
   ]
  },
  {
   "cell_type": "code",
   "execution_count": 78,
   "id": "fe931c33",
   "metadata": {},
   "outputs": [],
   "source": [
    "def map_direct(direct_str):\n",
    "    if direct_str == '1 stop':\n",
    "        return 1\n",
    "    elif direct_str == '2 stops':\n",
    "        return 2\n",
    "    elif direct_str == '3 stops':\n",
    "        return 3\n",
    "    elif direct_str == 'Direct':\n",
    "        return 0\n",
    "    else:\n",
    "        raise ValueError('Invalid value for Direct column: {}'.format(direct_str))"
   ]
  },
  {
   "cell_type": "code",
   "execution_count": 79,
   "id": "137ce54d",
   "metadata": {},
   "outputs": [],
   "source": [
    "data['Direct'] = data['Direct'].apply(map_direct)"
   ]
  },
  {
   "cell_type": "code",
   "execution_count": 80,
   "id": "44d60aea",
   "metadata": {},
   "outputs": [],
   "source": [
    "# Month\n",
    "month_map = {'January': 1, \n",
    "             'February': 2, \n",
    "             'March': 3, \n",
    "             'April': 4, \n",
    "             'May': 5, \n",
    "             'June': 6, \n",
    "             'July': 7, \n",
    "             'August': 8, \n",
    "             'September': 9, \n",
    "             'October': 10, \n",
    "             'November': 11, \n",
    "             'December': 12\n",
    "            }\n",
    "data['Month'] = data['Month'].map(month_map)"
   ]
  },
  {
   "cell_type": "code",
   "execution_count": 81,
   "id": "707e961e",
   "metadata": {},
   "outputs": [],
   "source": [
    "# Day\n",
    "day_map = {'Monday': 1, 'Tuesday': 2, 'Wednesday': 3, 'Thursday': 4, 'Friday': 5, 'Saturday': 6, 'Sunday': 7}\n",
    "\n",
    "data['Day'] = data['Day'].map(day_map)"
   ]
  },
  {
   "cell_type": "code",
   "execution_count": 82,
   "id": "e78a32d7",
   "metadata": {},
   "outputs": [
    {
     "data": {
      "text/plain": [
       "Not Defined                 160493\n",
       "Checked bag NOT included      2311\n",
       "Name: Baggage, dtype: int64"
      ]
     },
     "execution_count": 82,
     "metadata": {},
     "output_type": "execute_result"
    }
   ],
   "source": [
    "# Baggage\n",
    "data['Baggage'].value_counts()"
   ]
  },
  {
   "cell_type": "code",
   "execution_count": 83,
   "id": "14ead791",
   "metadata": {},
   "outputs": [],
   "source": [
    "def has_baggage(baggage_str):\n",
    "    if baggage_str == 'Not Defined' or baggage_str == 'Checked bag NOT included':\n",
    "        return 0\n",
    "    else:\n",
    "        return 1\n",
    "\n",
    "data['Baggage'] = data['Baggage'].apply(has_baggage)"
   ]
  },
  {
   "cell_type": "code",
   "execution_count": 84,
   "id": "6dd97cbc",
   "metadata": {},
   "outputs": [],
   "source": [
    "# Transit\n",
    "def has_transit(transit_str):\n",
    "    if transit_str == 'No Transit':\n",
    "        return 0\n",
    "    else:\n",
    "        return 1\n",
    "\n",
    "data['Transit'] = data['Transit'].apply(has_transit)"
   ]
  },
  {
   "cell_type": "code",
   "execution_count": 85,
   "id": "c16ffe40",
   "metadata": {},
   "outputs": [
    {
     "data": {
      "text/plain": [
       "Air New Zealand    157407\n",
       "Jetstar              4667\n",
       "Sounds Air            730\n",
       "Name: Airline, dtype: int64"
      ]
     },
     "execution_count": 85,
     "metadata": {},
     "output_type": "execute_result"
    }
   ],
   "source": [
    "# Airline\n",
    "data['Airline'].value_counts()"
   ]
  },
  {
   "cell_type": "code",
   "execution_count": 86,
   "id": "3cf35557",
   "metadata": {},
   "outputs": [
    {
     "data": {
      "text/html": [
       "<div>\n",
       "<style scoped>\n",
       "    .dataframe tbody tr th:only-of-type {\n",
       "        vertical-align: middle;\n",
       "    }\n",
       "\n",
       "    .dataframe tbody tr th {\n",
       "        vertical-align: top;\n",
       "    }\n",
       "\n",
       "    .dataframe thead th {\n",
       "        text-align: right;\n",
       "    }\n",
       "</style>\n",
       "<table border=\"1\" class=\"dataframe\">\n",
       "  <thead>\n",
       "    <tr style=\"text-align: right;\">\n",
       "      <th></th>\n",
       "      <th>Travel_Date</th>\n",
       "      <th>Departure_Airport</th>\n",
       "      <th>Departure_Time</th>\n",
       "      <th>Arrival_Airport</th>\n",
       "      <th>Arrival_Time</th>\n",
       "      <th>Duration</th>\n",
       "      <th>Direct</th>\n",
       "      <th>Transit</th>\n",
       "      <th>Baggage</th>\n",
       "      <th>Airline</th>\n",
       "      <th>Day</th>\n",
       "      <th>Month</th>\n",
       "      <th>Quarter</th>\n",
       "      <th>Airfare(NZ)</th>\n",
       "    </tr>\n",
       "  </thead>\n",
       "  <tbody>\n",
       "    <tr>\n",
       "      <th>0</th>\n",
       "      <td>2019-09-19</td>\n",
       "      <td>Auckland</td>\n",
       "      <td>13:35:00</td>\n",
       "      <td>ChristChurch</td>\n",
       "      <td>15:00:00</td>\n",
       "      <td>1h 25m</td>\n",
       "      <td>0</td>\n",
       "      <td>0</td>\n",
       "      <td>0</td>\n",
       "      <td>Jetstar</td>\n",
       "      <td>4</td>\n",
       "      <td>9</td>\n",
       "      <td>3</td>\n",
       "      <td>111</td>\n",
       "    </tr>\n",
       "    <tr>\n",
       "      <th>1</th>\n",
       "      <td>2019-09-19</td>\n",
       "      <td>Auckland</td>\n",
       "      <td>15:55:00</td>\n",
       "      <td>ChristChurch</td>\n",
       "      <td>17:20:00</td>\n",
       "      <td>1h 25m</td>\n",
       "      <td>0</td>\n",
       "      <td>0</td>\n",
       "      <td>0</td>\n",
       "      <td>Jetstar</td>\n",
       "      <td>4</td>\n",
       "      <td>9</td>\n",
       "      <td>3</td>\n",
       "      <td>111</td>\n",
       "    </tr>\n",
       "    <tr>\n",
       "      <th>2</th>\n",
       "      <td>2019-09-19</td>\n",
       "      <td>Auckland</td>\n",
       "      <td>11:40:00</td>\n",
       "      <td>ChristChurch</td>\n",
       "      <td>13:05:00</td>\n",
       "      <td>1h 25m</td>\n",
       "      <td>0</td>\n",
       "      <td>0</td>\n",
       "      <td>0</td>\n",
       "      <td>Jetstar</td>\n",
       "      <td>4</td>\n",
       "      <td>9</td>\n",
       "      <td>3</td>\n",
       "      <td>132</td>\n",
       "    </tr>\n",
       "    <tr>\n",
       "      <th>3</th>\n",
       "      <td>2019-09-19</td>\n",
       "      <td>Auckland</td>\n",
       "      <td>20:00:00</td>\n",
       "      <td>ChristChurch</td>\n",
       "      <td>21:25:00</td>\n",
       "      <td>1h 25m</td>\n",
       "      <td>0</td>\n",
       "      <td>0</td>\n",
       "      <td>0</td>\n",
       "      <td>Jetstar</td>\n",
       "      <td>4</td>\n",
       "      <td>9</td>\n",
       "      <td>3</td>\n",
       "      <td>132</td>\n",
       "    </tr>\n",
       "    <tr>\n",
       "      <th>4</th>\n",
       "      <td>2019-09-19</td>\n",
       "      <td>Auckland</td>\n",
       "      <td>09:00:00</td>\n",
       "      <td>ChristChurch</td>\n",
       "      <td>10:25:00</td>\n",
       "      <td>1h 25m</td>\n",
       "      <td>0</td>\n",
       "      <td>0</td>\n",
       "      <td>0</td>\n",
       "      <td>Air New Zealand</td>\n",
       "      <td>4</td>\n",
       "      <td>9</td>\n",
       "      <td>3</td>\n",
       "      <td>133</td>\n",
       "    </tr>\n",
       "  </tbody>\n",
       "</table>\n",
       "</div>"
      ],
      "text/plain": [
       "  Travel_Date Departure_Airport Departure_Time Arrival_Airport Arrival_Time  \\\n",
       "0  2019-09-19          Auckland       13:35:00    ChristChurch     15:00:00   \n",
       "1  2019-09-19          Auckland       15:55:00    ChristChurch     17:20:00   \n",
       "2  2019-09-19          Auckland       11:40:00    ChristChurch     13:05:00   \n",
       "3  2019-09-19          Auckland       20:00:00    ChristChurch     21:25:00   \n",
       "4  2019-09-19          Auckland       09:00:00    ChristChurch     10:25:00   \n",
       "\n",
       "  Duration  Direct  Transit  Baggage          Airline  Day  Month  Quarter  \\\n",
       "0   1h 25m       0        0        0          Jetstar    4      9        3   \n",
       "1   1h 25m       0        0        0          Jetstar    4      9        3   \n",
       "2   1h 25m       0        0        0          Jetstar    4      9        3   \n",
       "3   1h 25m       0        0        0          Jetstar    4      9        3   \n",
       "4   1h 25m       0        0        0  Air New Zealand    4      9        3   \n",
       "\n",
       "   Airfare(NZ)  \n",
       "0          111  \n",
       "1          111  \n",
       "2          132  \n",
       "3          132  \n",
       "4          133  "
      ]
     },
     "execution_count": 86,
     "metadata": {},
     "output_type": "execute_result"
    }
   ],
   "source": [
    "data.head()"
   ]
  },
  {
   "cell_type": "code",
   "execution_count": 87,
   "id": "49c1463c",
   "metadata": {},
   "outputs": [],
   "source": [
    "# Apply one-hot encoding to the 'Airline' column\n",
    "data = pd.get_dummies(data, columns=['Airline'], prefix='', prefix_sep='')"
   ]
  },
  {
   "cell_type": "code",
   "execution_count": 88,
   "id": "679fc146",
   "metadata": {},
   "outputs": [],
   "source": [
    "# Departure Airport\n",
    "# Apply one-hot encoding to the 'Dep Airport' column\n",
    "data = pd.get_dummies(data, columns=['Departure_Airport'], prefix='Dep', prefix_sep='_')"
   ]
  },
  {
   "cell_type": "code",
   "execution_count": 89,
   "id": "5274eae8",
   "metadata": {},
   "outputs": [],
   "source": [
    "# Arrival Airport\n",
    "data = pd.get_dummies(data, columns=['Arrival_Airport'], prefix='Arr', prefix_sep='_')"
   ]
  },
  {
   "cell_type": "code",
   "execution_count": 90,
   "id": "006c9680",
   "metadata": {},
   "outputs": [],
   "source": [
    "# Dropping Travel Date\n",
    "data.drop(['Travel_Date','Departure_Time','Arrival_Time','Duration'],axis=1, inplace=True)"
   ]
  },
  {
   "cell_type": "code",
   "execution_count": 91,
   "id": "279f0507",
   "metadata": {},
   "outputs": [
    {
     "data": {
      "text/html": [
       "<div>\n",
       "<style scoped>\n",
       "    .dataframe tbody tr th:only-of-type {\n",
       "        vertical-align: middle;\n",
       "    }\n",
       "\n",
       "    .dataframe tbody tr th {\n",
       "        vertical-align: top;\n",
       "    }\n",
       "\n",
       "    .dataframe thead th {\n",
       "        text-align: right;\n",
       "    }\n",
       "</style>\n",
       "<table border=\"1\" class=\"dataframe\">\n",
       "  <thead>\n",
       "    <tr style=\"text-align: right;\">\n",
       "      <th></th>\n",
       "      <th>Direct</th>\n",
       "      <th>Transit</th>\n",
       "      <th>Baggage</th>\n",
       "      <th>Day</th>\n",
       "      <th>Month</th>\n",
       "      <th>Quarter</th>\n",
       "      <th>Airfare(NZ)</th>\n",
       "      <th>Air New Zealand</th>\n",
       "      <th>Jetstar</th>\n",
       "      <th>Sounds Air</th>\n",
       "      <th>...</th>\n",
       "      <th>Dep_Wellington</th>\n",
       "      <th>Arr_Auckland</th>\n",
       "      <th>Arr_ChristChurch</th>\n",
       "      <th>Arr_Dunedin</th>\n",
       "      <th>Arr_Hawke's</th>\n",
       "      <th>Arr_Nelson</th>\n",
       "      <th>Arr_New Plymouth Airport</th>\n",
       "      <th>Arr_Palmerston</th>\n",
       "      <th>Arr_Queenstown</th>\n",
       "      <th>Arr_Wellington</th>\n",
       "    </tr>\n",
       "  </thead>\n",
       "  <tbody>\n",
       "    <tr>\n",
       "      <th>0</th>\n",
       "      <td>0</td>\n",
       "      <td>0</td>\n",
       "      <td>0</td>\n",
       "      <td>4</td>\n",
       "      <td>9</td>\n",
       "      <td>3</td>\n",
       "      <td>111</td>\n",
       "      <td>0</td>\n",
       "      <td>1</td>\n",
       "      <td>0</td>\n",
       "      <td>...</td>\n",
       "      <td>0</td>\n",
       "      <td>0</td>\n",
       "      <td>1</td>\n",
       "      <td>0</td>\n",
       "      <td>0</td>\n",
       "      <td>0</td>\n",
       "      <td>0</td>\n",
       "      <td>0</td>\n",
       "      <td>0</td>\n",
       "      <td>0</td>\n",
       "    </tr>\n",
       "    <tr>\n",
       "      <th>1</th>\n",
       "      <td>0</td>\n",
       "      <td>0</td>\n",
       "      <td>0</td>\n",
       "      <td>4</td>\n",
       "      <td>9</td>\n",
       "      <td>3</td>\n",
       "      <td>111</td>\n",
       "      <td>0</td>\n",
       "      <td>1</td>\n",
       "      <td>0</td>\n",
       "      <td>...</td>\n",
       "      <td>0</td>\n",
       "      <td>0</td>\n",
       "      <td>1</td>\n",
       "      <td>0</td>\n",
       "      <td>0</td>\n",
       "      <td>0</td>\n",
       "      <td>0</td>\n",
       "      <td>0</td>\n",
       "      <td>0</td>\n",
       "      <td>0</td>\n",
       "    </tr>\n",
       "    <tr>\n",
       "      <th>2</th>\n",
       "      <td>0</td>\n",
       "      <td>0</td>\n",
       "      <td>0</td>\n",
       "      <td>4</td>\n",
       "      <td>9</td>\n",
       "      <td>3</td>\n",
       "      <td>132</td>\n",
       "      <td>0</td>\n",
       "      <td>1</td>\n",
       "      <td>0</td>\n",
       "      <td>...</td>\n",
       "      <td>0</td>\n",
       "      <td>0</td>\n",
       "      <td>1</td>\n",
       "      <td>0</td>\n",
       "      <td>0</td>\n",
       "      <td>0</td>\n",
       "      <td>0</td>\n",
       "      <td>0</td>\n",
       "      <td>0</td>\n",
       "      <td>0</td>\n",
       "    </tr>\n",
       "    <tr>\n",
       "      <th>3</th>\n",
       "      <td>0</td>\n",
       "      <td>0</td>\n",
       "      <td>0</td>\n",
       "      <td>4</td>\n",
       "      <td>9</td>\n",
       "      <td>3</td>\n",
       "      <td>132</td>\n",
       "      <td>0</td>\n",
       "      <td>1</td>\n",
       "      <td>0</td>\n",
       "      <td>...</td>\n",
       "      <td>0</td>\n",
       "      <td>0</td>\n",
       "      <td>1</td>\n",
       "      <td>0</td>\n",
       "      <td>0</td>\n",
       "      <td>0</td>\n",
       "      <td>0</td>\n",
       "      <td>0</td>\n",
       "      <td>0</td>\n",
       "      <td>0</td>\n",
       "    </tr>\n",
       "    <tr>\n",
       "      <th>4</th>\n",
       "      <td>0</td>\n",
       "      <td>0</td>\n",
       "      <td>0</td>\n",
       "      <td>4</td>\n",
       "      <td>9</td>\n",
       "      <td>3</td>\n",
       "      <td>133</td>\n",
       "      <td>1</td>\n",
       "      <td>0</td>\n",
       "      <td>0</td>\n",
       "      <td>...</td>\n",
       "      <td>0</td>\n",
       "      <td>0</td>\n",
       "      <td>1</td>\n",
       "      <td>0</td>\n",
       "      <td>0</td>\n",
       "      <td>0</td>\n",
       "      <td>0</td>\n",
       "      <td>0</td>\n",
       "      <td>0</td>\n",
       "      <td>0</td>\n",
       "    </tr>\n",
       "  </tbody>\n",
       "</table>\n",
       "<p>5 rows × 23 columns</p>\n",
       "</div>"
      ],
      "text/plain": [
       "   Direct  Transit  Baggage  Day  Month  Quarter  Airfare(NZ)  \\\n",
       "0       0        0        0    4      9        3          111   \n",
       "1       0        0        0    4      9        3          111   \n",
       "2       0        0        0    4      9        3          132   \n",
       "3       0        0        0    4      9        3          132   \n",
       "4       0        0        0    4      9        3          133   \n",
       "\n",
       "   Air New Zealand  Jetstar  Sounds Air  ...  Dep_Wellington  Arr_Auckland  \\\n",
       "0                0        1           0  ...               0             0   \n",
       "1                0        1           0  ...               0             0   \n",
       "2                0        1           0  ...               0             0   \n",
       "3                0        1           0  ...               0             0   \n",
       "4                1        0           0  ...               0             0   \n",
       "\n",
       "   Arr_ChristChurch  Arr_Dunedin  Arr_Hawke's  Arr_Nelson  \\\n",
       "0                 1            0            0           0   \n",
       "1                 1            0            0           0   \n",
       "2                 1            0            0           0   \n",
       "3                 1            0            0           0   \n",
       "4                 1            0            0           0   \n",
       "\n",
       "   Arr_New Plymouth Airport  Arr_Palmerston  Arr_Queenstown  Arr_Wellington  \n",
       "0                         0               0               0               0  \n",
       "1                         0               0               0               0  \n",
       "2                         0               0               0               0  \n",
       "3                         0               0               0               0  \n",
       "4                         0               0               0               0  \n",
       "\n",
       "[5 rows x 23 columns]"
      ]
     },
     "execution_count": 91,
     "metadata": {},
     "output_type": "execute_result"
    }
   ],
   "source": [
    "data.head()"
   ]
  },
  {
   "cell_type": "code",
   "execution_count": 92,
   "id": "e4b96a26",
   "metadata": {},
   "outputs": [],
   "source": [
    "# Renaming Column\n",
    "data = data.rename(columns={\"Arr_Hawke's\": 'Arr_Hawkes'})"
   ]
  },
  {
   "cell_type": "code",
   "execution_count": 93,
   "id": "49fdf8fd",
   "metadata": {},
   "outputs": [
    {
     "name": "stdout",
     "output_type": "stream",
     "text": [
      "<class 'pandas.core.frame.DataFrame'>\n",
      "RangeIndex: 162804 entries, 0 to 162803\n",
      "Data columns (total 23 columns):\n",
      " #   Column                    Non-Null Count   Dtype\n",
      "---  ------                    --------------   -----\n",
      " 0   Direct                    162804 non-null  int64\n",
      " 1   Transit                   162804 non-null  int64\n",
      " 2   Baggage                   162804 non-null  int64\n",
      " 3   Day                       162804 non-null  int64\n",
      " 4   Month                     162804 non-null  int64\n",
      " 5   Quarter                   162804 non-null  int64\n",
      " 6   Airfare(NZ)               162804 non-null  int64\n",
      " 7   Air New Zealand           162804 non-null  uint8\n",
      " 8   Jetstar                   162804 non-null  uint8\n",
      " 9   Sounds Air                162804 non-null  uint8\n",
      " 10  Dep_Auckland              162804 non-null  uint8\n",
      " 11  Dep_ChristChurch          162804 non-null  uint8\n",
      " 12  Dep_Queenstown            162804 non-null  uint8\n",
      " 13  Dep_Wellington            162804 non-null  uint8\n",
      " 14  Arr_Auckland              162804 non-null  uint8\n",
      " 15  Arr_ChristChurch          162804 non-null  uint8\n",
      " 16  Arr_Dunedin               162804 non-null  uint8\n",
      " 17  Arr_Hawkes                162804 non-null  uint8\n",
      " 18  Arr_Nelson                162804 non-null  uint8\n",
      " 19  Arr_New Plymouth Airport  162804 non-null  uint8\n",
      " 20  Arr_Palmerston            162804 non-null  uint8\n",
      " 21  Arr_Queenstown            162804 non-null  uint8\n",
      " 22  Arr_Wellington            162804 non-null  uint8\n",
      "dtypes: int64(7), uint8(16)\n",
      "memory usage: 11.2 MB\n"
     ]
    }
   ],
   "source": [
    "data.info()"
   ]
  },
  {
   "cell_type": "code",
   "execution_count": 94,
   "id": "7a77adc7",
   "metadata": {},
   "outputs": [],
   "source": [
    "# Independent features\n",
    "X=data.iloc[:,np.r_[0:6,7:23]]"
   ]
  },
  {
   "cell_type": "code",
   "execution_count": 95,
   "id": "79d38be2",
   "metadata": {},
   "outputs": [
    {
     "data": {
      "text/html": [
       "<div>\n",
       "<style scoped>\n",
       "    .dataframe tbody tr th:only-of-type {\n",
       "        vertical-align: middle;\n",
       "    }\n",
       "\n",
       "    .dataframe tbody tr th {\n",
       "        vertical-align: top;\n",
       "    }\n",
       "\n",
       "    .dataframe thead th {\n",
       "        text-align: right;\n",
       "    }\n",
       "</style>\n",
       "<table border=\"1\" class=\"dataframe\">\n",
       "  <thead>\n",
       "    <tr style=\"text-align: right;\">\n",
       "      <th></th>\n",
       "      <th>Direct</th>\n",
       "      <th>Transit</th>\n",
       "      <th>Baggage</th>\n",
       "      <th>Day</th>\n",
       "      <th>Month</th>\n",
       "      <th>Quarter</th>\n",
       "      <th>Air New Zealand</th>\n",
       "      <th>Jetstar</th>\n",
       "      <th>Sounds Air</th>\n",
       "      <th>Dep_Auckland</th>\n",
       "      <th>...</th>\n",
       "      <th>Dep_Wellington</th>\n",
       "      <th>Arr_Auckland</th>\n",
       "      <th>Arr_ChristChurch</th>\n",
       "      <th>Arr_Dunedin</th>\n",
       "      <th>Arr_Hawkes</th>\n",
       "      <th>Arr_Nelson</th>\n",
       "      <th>Arr_New Plymouth Airport</th>\n",
       "      <th>Arr_Palmerston</th>\n",
       "      <th>Arr_Queenstown</th>\n",
       "      <th>Arr_Wellington</th>\n",
       "    </tr>\n",
       "  </thead>\n",
       "  <tbody>\n",
       "    <tr>\n",
       "      <th>0</th>\n",
       "      <td>0</td>\n",
       "      <td>0</td>\n",
       "      <td>0</td>\n",
       "      <td>4</td>\n",
       "      <td>9</td>\n",
       "      <td>3</td>\n",
       "      <td>0</td>\n",
       "      <td>1</td>\n",
       "      <td>0</td>\n",
       "      <td>1</td>\n",
       "      <td>...</td>\n",
       "      <td>0</td>\n",
       "      <td>0</td>\n",
       "      <td>1</td>\n",
       "      <td>0</td>\n",
       "      <td>0</td>\n",
       "      <td>0</td>\n",
       "      <td>0</td>\n",
       "      <td>0</td>\n",
       "      <td>0</td>\n",
       "      <td>0</td>\n",
       "    </tr>\n",
       "    <tr>\n",
       "      <th>1</th>\n",
       "      <td>0</td>\n",
       "      <td>0</td>\n",
       "      <td>0</td>\n",
       "      <td>4</td>\n",
       "      <td>9</td>\n",
       "      <td>3</td>\n",
       "      <td>0</td>\n",
       "      <td>1</td>\n",
       "      <td>0</td>\n",
       "      <td>1</td>\n",
       "      <td>...</td>\n",
       "      <td>0</td>\n",
       "      <td>0</td>\n",
       "      <td>1</td>\n",
       "      <td>0</td>\n",
       "      <td>0</td>\n",
       "      <td>0</td>\n",
       "      <td>0</td>\n",
       "      <td>0</td>\n",
       "      <td>0</td>\n",
       "      <td>0</td>\n",
       "    </tr>\n",
       "    <tr>\n",
       "      <th>2</th>\n",
       "      <td>0</td>\n",
       "      <td>0</td>\n",
       "      <td>0</td>\n",
       "      <td>4</td>\n",
       "      <td>9</td>\n",
       "      <td>3</td>\n",
       "      <td>0</td>\n",
       "      <td>1</td>\n",
       "      <td>0</td>\n",
       "      <td>1</td>\n",
       "      <td>...</td>\n",
       "      <td>0</td>\n",
       "      <td>0</td>\n",
       "      <td>1</td>\n",
       "      <td>0</td>\n",
       "      <td>0</td>\n",
       "      <td>0</td>\n",
       "      <td>0</td>\n",
       "      <td>0</td>\n",
       "      <td>0</td>\n",
       "      <td>0</td>\n",
       "    </tr>\n",
       "    <tr>\n",
       "      <th>3</th>\n",
       "      <td>0</td>\n",
       "      <td>0</td>\n",
       "      <td>0</td>\n",
       "      <td>4</td>\n",
       "      <td>9</td>\n",
       "      <td>3</td>\n",
       "      <td>0</td>\n",
       "      <td>1</td>\n",
       "      <td>0</td>\n",
       "      <td>1</td>\n",
       "      <td>...</td>\n",
       "      <td>0</td>\n",
       "      <td>0</td>\n",
       "      <td>1</td>\n",
       "      <td>0</td>\n",
       "      <td>0</td>\n",
       "      <td>0</td>\n",
       "      <td>0</td>\n",
       "      <td>0</td>\n",
       "      <td>0</td>\n",
       "      <td>0</td>\n",
       "    </tr>\n",
       "    <tr>\n",
       "      <th>4</th>\n",
       "      <td>0</td>\n",
       "      <td>0</td>\n",
       "      <td>0</td>\n",
       "      <td>4</td>\n",
       "      <td>9</td>\n",
       "      <td>3</td>\n",
       "      <td>1</td>\n",
       "      <td>0</td>\n",
       "      <td>0</td>\n",
       "      <td>1</td>\n",
       "      <td>...</td>\n",
       "      <td>0</td>\n",
       "      <td>0</td>\n",
       "      <td>1</td>\n",
       "      <td>0</td>\n",
       "      <td>0</td>\n",
       "      <td>0</td>\n",
       "      <td>0</td>\n",
       "      <td>0</td>\n",
       "      <td>0</td>\n",
       "      <td>0</td>\n",
       "    </tr>\n",
       "  </tbody>\n",
       "</table>\n",
       "<p>5 rows × 22 columns</p>\n",
       "</div>"
      ],
      "text/plain": [
       "   Direct  Transit  Baggage  Day  Month  Quarter  Air New Zealand  Jetstar  \\\n",
       "0       0        0        0    4      9        3                0        1   \n",
       "1       0        0        0    4      9        3                0        1   \n",
       "2       0        0        0    4      9        3                0        1   \n",
       "3       0        0        0    4      9        3                0        1   \n",
       "4       0        0        0    4      9        3                1        0   \n",
       "\n",
       "   Sounds Air  Dep_Auckland  ...  Dep_Wellington  Arr_Auckland  \\\n",
       "0           0             1  ...               0             0   \n",
       "1           0             1  ...               0             0   \n",
       "2           0             1  ...               0             0   \n",
       "3           0             1  ...               0             0   \n",
       "4           0             1  ...               0             0   \n",
       "\n",
       "   Arr_ChristChurch  Arr_Dunedin  Arr_Hawkes  Arr_Nelson  \\\n",
       "0                 1            0           0           0   \n",
       "1                 1            0           0           0   \n",
       "2                 1            0           0           0   \n",
       "3                 1            0           0           0   \n",
       "4                 1            0           0           0   \n",
       "\n",
       "   Arr_New Plymouth Airport  Arr_Palmerston  Arr_Queenstown  Arr_Wellington  \n",
       "0                         0               0               0               0  \n",
       "1                         0               0               0               0  \n",
       "2                         0               0               0               0  \n",
       "3                         0               0               0               0  \n",
       "4                         0               0               0               0  \n",
       "\n",
       "[5 rows x 22 columns]"
      ]
     },
     "execution_count": 95,
     "metadata": {},
     "output_type": "execute_result"
    }
   ],
   "source": [
    "X.head()"
   ]
  },
  {
   "cell_type": "code",
   "execution_count": 96,
   "id": "e19bfe37",
   "metadata": {},
   "outputs": [],
   "source": [
    "y=data['Airfare(NZ)']"
   ]
  },
  {
   "cell_type": "code",
   "execution_count": 97,
   "id": "8c43c7dc",
   "metadata": {},
   "outputs": [
    {
     "data": {
      "text/plain": [
       "0    111\n",
       "1    111\n",
       "2    132\n",
       "3    132\n",
       "4    133\n",
       "Name: Airfare(NZ), dtype: int64"
      ]
     },
     "execution_count": 97,
     "metadata": {},
     "output_type": "execute_result"
    }
   ],
   "source": [
    "y.head()"
   ]
  },
  {
   "cell_type": "code",
   "execution_count": 98,
   "id": "1664db0e",
   "metadata": {},
   "outputs": [
    {
     "data": {
      "text/plain": [
       "((113962, 22), (48842, 22))"
      ]
     },
     "execution_count": 98,
     "metadata": {},
     "output_type": "execute_result"
    }
   ],
   "source": [
    "from sklearn.model_selection import train_test_split\n",
    "X_train,X_test,y_train,y_test=train_test_split(X,y,train_size=0.7,random_state=42)\n",
    "X_train.shape,X_test.shape"
   ]
  },
  {
   "cell_type": "code",
   "execution_count": 99,
   "id": "b7b91634",
   "metadata": {},
   "outputs": [],
   "source": [
    "### Linear Regressor"
   ]
  },
  {
   "cell_type": "code",
   "execution_count": 100,
   "id": "6478981a",
   "metadata": {},
   "outputs": [],
   "source": [
    "from sklearn.linear_model import LinearRegression\n",
    "regressor=LinearRegression()"
   ]
  },
  {
   "cell_type": "code",
   "execution_count": 101,
   "id": "5cdf880a",
   "metadata": {},
   "outputs": [
    {
     "data": {
      "text/plain": [
       "LinearRegression()"
      ]
     },
     "execution_count": 101,
     "metadata": {},
     "output_type": "execute_result"
    }
   ],
   "source": [
    "# Fit the model using the training data\n",
    "regressor.fit(X_train, y_train)"
   ]
  },
  {
   "cell_type": "code",
   "execution_count": 102,
   "id": "4c9ec46b",
   "metadata": {},
   "outputs": [],
   "source": [
    "# Predict the target variable for the test data\n",
    "y_pred = regressor.predict(X_test)"
   ]
  },
  {
   "cell_type": "code",
   "execution_count": 103,
   "id": "5a523367",
   "metadata": {},
   "outputs": [],
   "source": [
    "# Calculate the mean squared error of the predictions\n",
    "from sklearn.metrics import mean_squared_error\n",
    "mse = mean_squared_error(y_test, y_pred)"
   ]
  },
  {
   "cell_type": "code",
   "execution_count": 104,
   "id": "41502f74",
   "metadata": {},
   "outputs": [
    {
     "name": "stdout",
     "output_type": "stream",
     "text": [
      "Mean Squared Error: 16923.08101554862\n"
     ]
    }
   ],
   "source": [
    "# Print the mean squared error\n",
    "print('Mean Squared Error:', mse)"
   ]
  },
  {
   "cell_type": "code",
   "execution_count": 105,
   "id": "8fe6169a",
   "metadata": {},
   "outputs": [],
   "source": [
    "# Decision Tree Regressor\n",
    "from sklearn.tree import DecisionTreeRegressor\n",
    "# Create a decision tree regression model object\n",
    "dreg = DecisionTreeRegressor(random_state=42)\n",
    "# Fit the model to the training data\n",
    "dreg.fit(X_train, y_train)\n",
    "# Predict the target variable for the test data\n",
    "y_pred_d = dreg.predict(X_test)"
   ]
  },
  {
   "cell_type": "code",
   "execution_count": 106,
   "id": "ee4f923d",
   "metadata": {},
   "outputs": [],
   "source": [
    "# Calculate the mean squared error of the predictions\n",
    "from sklearn.metrics import mean_squared_error\n",
    "mse_d = mean_squared_error(y_test, y_pred_d)"
   ]
  },
  {
   "cell_type": "code",
   "execution_count": 107,
   "id": "560b0a9d",
   "metadata": {},
   "outputs": [
    {
     "name": "stdout",
     "output_type": "stream",
     "text": [
      "Mean Squared Error: 11771.788000412147\n"
     ]
    }
   ],
   "source": [
    "# Print the mean squared error\n",
    "print('Mean Squared Error:', mse_d)"
   ]
  },
  {
   "cell_type": "code",
   "execution_count": 108,
   "id": "5e6fc715",
   "metadata": {},
   "outputs": [
    {
     "data": {
      "text/plain": [
       "GridSearchCV(cv=5, estimator=DecisionTreeRegressor(random_state=42),\n",
       "             param_grid={'max_depth': [5, 10, 15, 20, 25],\n",
       "                         'min_samples_leaf': [5, 10, 15, 20, 25],\n",
       "                         'min_samples_split': [5, 10, 15, 20, 25]})"
      ]
     },
     "execution_count": 108,
     "metadata": {},
     "output_type": "execute_result"
    }
   ],
   "source": [
    "# Hyper parameter Tuning\n",
    "from sklearn.model_selection import GridSearchCV\n",
    "\n",
    "# Define the hyperparameter grid to search over\n",
    "param_grid = {\n",
    "    'max_depth': [5, 10, 15,20,25],\n",
    "    'min_samples_split': [5, 10, 15,20,25],\n",
    "    'min_samples_leaf': [5,10,15,20,25],\n",
    "}\n",
    "\n",
    "# Create a grid search object and fit it to the data\n",
    "grid_search = GridSearchCV(dreg, param_grid, cv=5)\n",
    "grid_search.fit(X_train, y_train)"
   ]
  },
  {
   "cell_type": "code",
   "execution_count": 109,
   "id": "2accdf43",
   "metadata": {},
   "outputs": [],
   "source": [
    "# Best tree\n",
    "best_tree = grid_search.best_estimator_"
   ]
  },
  {
   "cell_type": "code",
   "execution_count": 110,
   "id": "d149d835",
   "metadata": {},
   "outputs": [
    {
     "data": {
      "text/plain": [
       "DecisionTreeRegressor(max_depth=20, min_samples_leaf=5, min_samples_split=5,\n",
       "                      random_state=42)"
      ]
     },
     "execution_count": 110,
     "metadata": {},
     "output_type": "execute_result"
    }
   ],
   "source": [
    "best_tree"
   ]
  },
  {
   "cell_type": "code",
   "execution_count": 111,
   "id": "73c7bbbe",
   "metadata": {},
   "outputs": [],
   "source": [
    "# Prediction\n",
    "y_pred_best = best_tree.predict(X_test)\n",
    "mse = mean_squared_error(y_test, y_pred_best)"
   ]
  },
  {
   "cell_type": "code",
   "execution_count": 112,
   "id": "48ccf735",
   "metadata": {},
   "outputs": [
    {
     "name": "stdout",
     "output_type": "stream",
     "text": [
      "Best parameters: {'max_depth': 20, 'min_samples_leaf': 5, 'min_samples_split': 5}\n",
      "MSE for best parameters: 11784.38\n"
     ]
    }
   ],
   "source": [
    "print(f\"Best parameters: {grid_search.best_params_}\")\n",
    "print(f\"MSE for best parameters: {mse:.2f}\")"
   ]
  },
  {
   "cell_type": "code",
   "execution_count": 113,
   "id": "0380fd01",
   "metadata": {},
   "outputs": [],
   "source": [
    "### GBT Regressor\n",
    "from sklearn.ensemble import GradientBoostingRegressor\n",
    "# Create a GB regression model object\n",
    "gbt = GradientBoostingRegressor(random_state=42)\n",
    "# Fit the model to the training data\n",
    "gbt.fit(X_train, y_train)\n",
    "# Predict the target variable for the test data\n",
    "y_pred_g = gbt.predict(X_test)"
   ]
  },
  {
   "cell_type": "code",
   "execution_count": 114,
   "id": "d444704b",
   "metadata": {},
   "outputs": [
    {
     "name": "stdout",
     "output_type": "stream",
     "text": [
      "[286.54552822 485.29711605 470.79586533 ... 417.08425373 380.57822767\n",
      " 390.95815501]\n"
     ]
    }
   ],
   "source": [
    "print(y_pred_g)"
   ]
  },
  {
   "cell_type": "code",
   "execution_count": 115,
   "id": "acb28663",
   "metadata": {},
   "outputs": [],
   "source": [
    "# Calculate the mean squared error of the predictions\n",
    "from sklearn.metrics import mean_squared_error\n",
    "mse_gb = mean_squared_error(y_test, y_pred_g)"
   ]
  },
  {
   "cell_type": "code",
   "execution_count": 116,
   "id": "a8ec2858",
   "metadata": {},
   "outputs": [
    {
     "name": "stdout",
     "output_type": "stream",
     "text": [
      "Mean Squared Error: 14207.224982275606\n"
     ]
    }
   ],
   "source": [
    "# Print the mean squared error\n",
    "print('Mean Squared Error:', mse_gb)"
   ]
  },
  {
   "cell_type": "code",
   "execution_count": 117,
   "id": "0715906b",
   "metadata": {},
   "outputs": [
    {
     "name": "stdout",
     "output_type": "stream",
     "text": [
      "Best parameters: {'learning_rate': 0.1, 'max_depth': 10, 'n_estimators': 100}\n",
      "Best score: 12133.908153523904\n",
      "Mean squared error: 11751.363337470448\n"
     ]
    }
   ],
   "source": [
    "from sklearn.model_selection import GridSearchCV\n",
    "\n",
    "# Define the hyperparameter grid to search over\n",
    "param_grid = {\n",
    "    'n_estimators': [50, 100],\n",
    "    'learning_rate': [0.01, 0.1, 0.5],\n",
    "    'max_depth': [5, 10],\n",
    "}\n",
    "\n",
    "# Perform grid search with cross-validation\n",
    "grid_search = GridSearchCV(estimator=gbt, param_grid=param_grid, cv=3, scoring='neg_mean_squared_error')\n",
    "grid_search.fit(X_train, y_train)\n",
    "\n",
    "# Print the best parameters and best score\n",
    "print('Best parameters:', grid_search.best_params_)\n",
    "print('Best score:', -grid_search.best_score_)\n",
    "\n",
    "# Predict the target variable on the test data using the best model\n",
    "y_pred = grid_search.best_estimator_.predict(X_test)\n",
    "\n",
    "# Calculate the mean squared error of the best model\n",
    "mse = mean_squared_error(y_test, y_pred)\n",
    "\n",
    "# Print the mean squared error\n",
    "print('Mean squared error:', mse)"
   ]
  },
  {
   "cell_type": "code",
   "execution_count": 118,
   "id": "2252ab33",
   "metadata": {},
   "outputs": [],
   "source": [
    "# Best tree\n",
    "best_gb = grid_search.best_estimator_"
   ]
  },
  {
   "cell_type": "code",
   "execution_count": 119,
   "id": "347ae8b6",
   "metadata": {},
   "outputs": [
    {
     "data": {
      "text/plain": [
       "GradientBoostingRegressor(max_depth=10, random_state=42)"
      ]
     },
     "execution_count": 119,
     "metadata": {},
     "output_type": "execute_result"
    }
   ],
   "source": [
    "best_gb"
   ]
  },
  {
   "cell_type": "code",
   "execution_count": 120,
   "id": "0d420066",
   "metadata": {},
   "outputs": [],
   "source": [
    "# Saving model to disk\n",
    "import pickle\n",
    "pickle.dump(best_gb,open('model1.pk2','wb'))"
   ]
  },
  {
   "cell_type": "code",
   "execution_count": 121,
   "id": "2c65b4ee",
   "metadata": {},
   "outputs": [],
   "source": [
    "model=pickle.load(open('model1.pk2','rb'))"
   ]
  },
  {
   "cell_type": "code",
   "execution_count": 122,
   "id": "4471530e",
   "metadata": {},
   "outputs": [
    {
     "name": "stdout",
     "output_type": "stream",
     "text": [
      "<class 'pandas.core.frame.DataFrame'>\n",
      "RangeIndex: 162804 entries, 0 to 162803\n",
      "Data columns (total 22 columns):\n",
      " #   Column                    Non-Null Count   Dtype\n",
      "---  ------                    --------------   -----\n",
      " 0   Direct                    162804 non-null  int64\n",
      " 1   Transit                   162804 non-null  int64\n",
      " 2   Baggage                   162804 non-null  int64\n",
      " 3   Day                       162804 non-null  int64\n",
      " 4   Month                     162804 non-null  int64\n",
      " 5   Quarter                   162804 non-null  int64\n",
      " 6   Air New Zealand           162804 non-null  uint8\n",
      " 7   Jetstar                   162804 non-null  uint8\n",
      " 8   Sounds Air                162804 non-null  uint8\n",
      " 9   Dep_Auckland              162804 non-null  uint8\n",
      " 10  Dep_ChristChurch          162804 non-null  uint8\n",
      " 11  Dep_Queenstown            162804 non-null  uint8\n",
      " 12  Dep_Wellington            162804 non-null  uint8\n",
      " 13  Arr_Auckland              162804 non-null  uint8\n",
      " 14  Arr_ChristChurch          162804 non-null  uint8\n",
      " 15  Arr_Dunedin               162804 non-null  uint8\n",
      " 16  Arr_Hawkes                162804 non-null  uint8\n",
      " 17  Arr_Nelson                162804 non-null  uint8\n",
      " 18  Arr_New Plymouth Airport  162804 non-null  uint8\n",
      " 19  Arr_Palmerston            162804 non-null  uint8\n",
      " 20  Arr_Queenstown            162804 non-null  uint8\n",
      " 21  Arr_Wellington            162804 non-null  uint8\n",
      "dtypes: int64(6), uint8(16)\n",
      "memory usage: 9.9 MB\n"
     ]
    }
   ],
   "source": [
    "X.info()"
   ]
  }
 ],
 "metadata": {
  "kernelspec": {
   "display_name": "base",
   "language": "python",
   "name": "python3"
  },
  "language_info": {
   "codemirror_mode": {
    "name": "ipython",
    "version": 3
   },
   "file_extension": ".py",
   "mimetype": "text/x-python",
   "name": "python",
   "nbconvert_exporter": "python",
   "pygments_lexer": "ipython3",
   "version": "3.9.12"
  },
  "vscode": {
   "interpreter": {
    "hash": "bd1d1b8e06ca59b6bfc0e38967132572ea7c14d9798b2622978e9de77f31003a"
   }
  }
 },
 "nbformat": 4,
 "nbformat_minor": 5
}
